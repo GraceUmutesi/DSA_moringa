{
  "nbformat": 4,
  "nbformat_minor": 0,
  "metadata": {
    "colab": {
      "provenance": [],
      "authorship_tag": "ABX9TyPoEYlKoOnyhpm3ldeOjMqm",
      "include_colab_link": true
    },
    "kernelspec": {
      "name": "python3",
      "display_name": "Python 3"
    },
    "language_info": {
      "name": "python"
    }
  },
  "cells": [
    {
      "cell_type": "markdown",
      "metadata": {
        "id": "view-in-github",
        "colab_type": "text"
      },
      "source": [
        "<a href=\"https://colab.research.google.com/github/GraceUmutesi/DSA_moringa/blob/main/square_sorted.ipynb\" target=\"_parent\"><img src=\"https://colab.research.google.com/assets/colab-badge.svg\" alt=\"Open In Colab\"/></a>"
      ]
    },
    {
      "cell_type": "code",
      "execution_count": 1,
      "metadata": {
        "id": "TdJ3sheQ3BtR"
      },
      "outputs": [],
      "source": [
        "# Online Python compiler (interpreter) to run Python online.\n",
        "# Write Python 3 code in this online editor and run it.\n",
        "# Write a function that takes in a non-empty array of integers that are sorted in ascending order and returns a new array of the same length with the squares of the original integers also sorted in ascending order. \n",
        "\n",
        "# For example:\n",
        "#       array = [1,  2,  3,  5,  6,  8,  9] \n",
        "# Returns:\n",
        "# [1,  4,  9,  25,  36,  64,  81]\n",
        "\n",
        "def sortedSquareArray(array):\n",
        "    is_sorted=array==sorted(array)\n",
        "    squarred_list=[]\n",
        "    if is_sorted and len(array)!=0:\n",
        "        for num in array:\n",
        "            squarred_list.append(num**2)\n",
        "        print(squarred_list)\n",
        "    elif not is_sorted and len(array)!=0:\n",
        "        sorted_list=sorted(array)\n",
        "        for num in sorted_list:\n",
        "            squarred_list.append(num**2)\n",
        "        print(squarred_list)\n",
        "    else:\n",
        "        print('your array is empty')"
      ]
    },
    {
      "cell_type": "code",
      "source": [
        "sortedSquareArray([1,  2,  3,  5,  6,  8,  9])\n",
        "sortedSquareArray([1,  2,  3,  15,  6,  8,  9])\n",
        "sortedSquareArray([])"
      ],
      "metadata": {
        "colab": {
          "base_uri": "https://localhost:8080/"
        },
        "id": "kzq7Xg603W5L",
        "outputId": "bd3cb481-4f97-4620-dc96-a344420382f1"
      },
      "execution_count": 2,
      "outputs": [
        {
          "output_type": "stream",
          "name": "stdout",
          "text": [
            "[1, 4, 9, 25, 36, 64, 81]\n",
            "[1, 4, 9, 36, 64, 81, 225]\n",
            "your array is empty\n"
          ]
        }
      ]
    }
  ]
}